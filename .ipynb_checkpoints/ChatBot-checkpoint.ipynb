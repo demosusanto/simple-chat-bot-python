{
 "cells": [
  {
   "cell_type": "code",
   "execution_count": null,
   "id": "00040c51",
   "metadata": {},
   "outputs": [
    {
     "name": "stdout",
     "output_type": "stream",
     "text": [
      "User\t: halo\n",
      "admin \t: hai\n",
      "User\t: apa kabar\n",
      "admin \t: saya baik. bagaimana denganmu\n",
      "User\t: saya sehat\n",
      "admin \t: senang mendengarnya\n",
      "User\t: siapa namamu\n",
      "admin \t: nama saya admin\n",
      "User\t: saya tidak tahu\n",
      "admin \t: saya tidak mengerti\n"
     ]
    }
   ],
   "source": [
    "import random\n",
    "from gtts import gTTS\n",
    "from audioplayer import AudioPlayer\n",
    "\n",
    "nama = \"admin\"\n",
    "\n",
    "def speech(text):\n",
    "    tts = gTTS(text, lang=\"id\", slow=False)\n",
    "    tts.save(\"speech.mp3\")\n",
    "    AudioPlayer(\"speech.mp3\").play(block=True)\n",
    "\n",
    "chat = \"\"\n",
    "while chat != \"selesai\":\n",
    "    chat = input(\"User\\t: \")\n",
    "\n",
    "    if chat in [\"halo\",\"hai\"]:\n",
    "        answer = [\"halo\",\"hai\"]\n",
    "    elif chat in [\"apa kabar\", \"bagaimana kabarmu\"]:\n",
    "        answer = [\"baik\",\"saya baik. bagaimana denganmu\"]\n",
    "    elif chat in [\"saya baik\",\"saya sehat\"]:\n",
    "        answer = [\"senang mendengarnya\"]\n",
    "    elif chat == nama:\n",
    "        answer = [\"baik\",\"ada yang bisa saya bantu\"]\n",
    "    elif chat in [\"siapa namamu\",\"namamu\"]:\n",
    "        answer = [\"nama saya \"+nama]\n",
    "    elif chat == \"selesai\":\n",
    "        answer = [\"terimakasih\"]\n",
    "    else:\n",
    "        answer = [\"saya tidak tahu\",\"saya tidak mengerti\"]\n",
    "\n",
    "    x = random.randint(0,len(answer)-1)\n",
    "    text = answer[x]\n",
    "    speech(text)\n",
    "\n",
    "    print(nama, \"\\t:\", text)"
   ]
  },
  {
   "cell_type": "code",
   "execution_count": null,
   "id": "961a7e23",
   "metadata": {},
   "outputs": [],
   "source": [
    "# import re\n",
    "# import random\n",
    "\n",
    "# sapaan = [\"Hai juga\", \"Halo juga\", \"Apa kabar\"]\n",
    "\n",
    "# while True:\n",
    "#     x = input(\"User\\t: \")\n",
    "#     if re.findall(r'halo|hai', x):\n",
    "#         print(\"Bot\\t:\", random.choice(sapaan))\n",
    "#     else:\n",
    "#         print(\"Bot\\t: Aku tidak paham\")"
   ]
  }
 ],
 "metadata": {
  "kernelspec": {
   "display_name": "Python 3",
   "language": "python",
   "name": "python3"
  },
  "language_info": {
   "codemirror_mode": {
    "name": "ipython",
    "version": 3
   },
   "file_extension": ".py",
   "mimetype": "text/x-python",
   "name": "python",
   "nbconvert_exporter": "python",
   "pygments_lexer": "ipython3",
   "version": "3.8.8"
  }
 },
 "nbformat": 4,
 "nbformat_minor": 5
}
